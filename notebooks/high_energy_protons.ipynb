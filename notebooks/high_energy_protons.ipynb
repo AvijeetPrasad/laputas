{
  "nbformat": 4,
  "nbformat_minor": 0,
  "metadata": {
    "colab": {
      "name": "high_energy_protons.ipynb",
      "provenance": [],
      "collapsed_sections": [],
      "include_colab_link": true
    },
    "kernelspec": {
      "name": "python3",
      "display_name": "Python 3"
    }
  },
  "cells": [
    {
      "cell_type": "markdown",
      "metadata": {
        "id": "view-in-github",
        "colab_type": "text"
      },
      "source": [
        "<a href=\"https://colab.research.google.com/github/AvijeetPrasad/laputas/blob/main/notebooks/high_energy_protons.ipynb\" target=\"_parent\"><img src=\"https://colab.research.google.com/assets/colab-badge.svg\" alt=\"Open In Colab\"/></a>"
      ]
    },
    {
      "cell_type": "markdown",
      "metadata": {
        "id": "sCI3cHcWnOA6"
      },
      "source": [
        "#High energy protons"
      ]
    },
    {
      "cell_type": "markdown",
      "metadata": {
        "id": "ilnoda7mneMA"
      },
      "source": [
        "##Summary\n",
        "\n",
        "Protons have a rest mass equivalent to an energy of around 938 MeV. As the proton is accelerated, due to special relativistic effects, their mass increses. In order to understand the physics at conditions close to the Big Bang, particle accelerators such as the Large Hadron Collider (LHC) accelerates protons and and other charged particles close to the speed of light. For example in LHC, protons are accelerted to energies of 7 TeV, i.e. ~7000 times their rest mass. Due to this increase in their mass/energy their behaviour in a gravitational field will be modified. Here we study these effects as the proton's velocity the speed of light.\n",
        "\n",
        "This article caters to different sets of audience.\n"
      ]
    },
    {
      "cell_type": "code",
      "metadata": {
        "id": "dqNGz8l6WdF7",
        "cellView": "code"
      },
      "source": [
        "# Import relevant packages and constants\n",
        "import math\n",
        "import matplotlib.pyplot as plt\n",
        "import numpy as np\n",
        "from astropy import units as u\n",
        "from astropy.constants.si import c, G, m_p, m_e, e, eps0, h, hbar\n",
        "from astropy.cosmology import WMAP9 as cosmo\n",
        "# c   = speed of light\n",
        "# e   = charge of proton\n",
        "# eps0= Vacuum electric permittivity\n",
        "# G   =  universal gravatational constant\n",
        "# h   = Planck's constant\n",
        "# hbar= reduced Planck's constant\n",
        "# m_e =  rest mass of electron\n",
        "# m_p =  rest mass of proton"
      ],
      "execution_count": null,
      "outputs": []
    },
    {
      "cell_type": "markdown",
      "metadata": {
        "id": "-oOIDVcErGLh"
      },
      "source": [
        "##1.Introduction\n",
        "The gravitational force between two protons of mass $m_p$ separated by a distance $r$ is given by the Newton's law as:\n",
        "\n",
        "$F_g = \\frac{G m_p^2}{r^2} \\quad (1)$\n",
        "\n",
        "For instance, two protons separated by a distance of 1 fm (typical nuclear scale) will experience a attractive force of $1.87 \\times 10^{-34}$ N."
      ]
    },
    {
      "cell_type": "code",
      "metadata": {
        "id": "XebUd1um8d_D",
        "colab": {
          "base_uri": "https://localhost:8080/"
        },
        "outputId": "86c78ad9-3bfa-4f93-e5b8-165e6e9662e2"
      },
      "source": [
        "# Let r be the separation of 1 fm \n",
        "r = (1*u.fm).to(u.m) \n",
        "# The Gravitational force Fg between two protons\n",
        "Fg = (G * m_p * m_p) / (r * r) \n",
        "print(f\"Gravitational force between two protons of mass {m_p:.2e} at a distance {r} = {Fg:.2e}\") "
      ],
      "execution_count": null,
      "outputs": [
        {
          "output_type": "stream",
          "text": [
            "Gravitational force between two protons of mass 1.67e-27 kg at a distance 1e-15 m = 1.87e-34 kg m / s2\n"
          ],
          "name": "stdout"
        }
      ]
    },
    {
      "cell_type": "markdown",
      "metadata": {
        "id": "KYQldi0cXgF3"
      },
      "source": [
        "This is beyond the experimental limit of force that can be detected, which is $10^{-24}$ N  [(Biercuk et al. 2010)](https://arxiv.org/abs/1004.0780v2).\n",
        "\n",
        "For the gravitational force between two particles at a distance of 1 fm to be equal to this observable limit, their mass has to be $1.22 \\times 10^{-22}$ kg. For protons to have such a high mass they have to accelerated to higher speeds.\n",
        "\n"
      ]
    },
    {
      "cell_type": "code",
      "metadata": {
        "id": "jsfF9Xl8izDV",
        "colab": {
          "base_uri": "https://localhost:8080/"
        },
        "outputId": "40f90343-0335-4f68-c8fc-b1c7865b7e88"
      },
      "source": [
        "# Let F_el be the experimental limit of detectable force\n",
        "F_el = (1e-24*u.N).decompose()\n",
        "# The mass at the experimental limit m_el\n",
        "m_el = ((F_el * r * r)/G)** 0.5\n",
        "print(f\"The mass of particles separated by a distance of {r} at the experimental detection limit = {m_el:.2e}\") "
      ],
      "execution_count": null,
      "outputs": [
        {
          "output_type": "stream",
          "text": [
            "The mass of particles separated by a distance of 1e-15 m at the experimental detection limit = 1.22e-22 kg\n"
          ],
          "name": "stdout"
        }
      ]
    },
    {
      "cell_type": "markdown",
      "metadata": {
        "id": "3i0_2DVAYQHQ"
      },
      "source": [
        "Another fundamental parameter associated with the proton is its charge. The electrostatic repulsive (Coulomb) force between two protons of charge $e$ separated by a distance $r$ is given by:\n",
        "\n",
        "$F_e = k_e \\frac{e^2}{r^2} \\quad (2)$\n",
        "\n",
        "where $k_e = 9\\times 10^{9}$ N m$^2$/C$^2$ is the permitivity constant. In SI units, $F_e = 2.31 \\times 10^{2}$ C$^2$/(F m).\n"
      ]
    },
    {
      "cell_type": "code",
      "metadata": {
        "colab": {
          "base_uri": "https://localhost:8080/"
        },
        "id": "-Ok_eBdb1yTY",
        "outputId": "c60ff1ae-4329-42e5-94b1-2084ea442845"
      },
      "source": [
        "# Let ke be the Coulomb constant and e the charge\n",
        "ke = 1/(4*np.pi*eps0) \n",
        "# The Coulomb force Fe between two protons:\n",
        "Fe = (ke * e.si * e.si) / (r * r) \n",
        "print(f\"Coulomb repulsive force between two protons of chrage {e.si:.2e} at a distance {r} = {Fe:.2e}\") "
      ],
      "execution_count": null,
      "outputs": [
        {
          "output_type": "stream",
          "text": [
            "Coulomb force between two protons of chrage 1.60e-19 C at a distance 1e-15 m = 2.31e+02 C2 / (F m)\n"
          ],
          "name": "stdout"
        }
      ]
    },
    {
      "cell_type": "markdown",
      "metadata": {
        "id": "iJIHB16o1N-J"
      },
      "source": [
        "The electrostatic force between two protons is 36 orders greaters than the gravitational force.\n",
        "\n",
        "For the Gravitation force to be equal to Coulomb force between two protons, i.e. $\\frac{G m_p^{'2}}{r^2}=\\frac{k_e e^2}{r^2}$, the mass of the proton should be\n",
        "\n",
        "$ m'_p=\\sqrt{\\frac{k_e e^2}{G}} = 1.86 \\times 10^{-9}\\quad(3)$ "
      ]
    },
    {
      "cell_type": "code",
      "metadata": {
        "id": "oaGHmVJC4bi0",
        "colab": {
          "base_uri": "https://localhost:8080/"
        },
        "outputId": "9c90f3e5-3dab-450e-a34d-2ecef12c1003"
      },
      "source": [
        "# Let mpp be the mass where Gravitational and elctrostatic force becomes equal\n",
        "mpp = np.sqrt((ke * e.si * e.si) / G )\n",
        "mpp = mpp.decompose()\n",
        "print(f\"Mass of proton when gravity balances electrostatic repulsion  = {mpp:.2e}\") "
      ],
      "execution_count": null,
      "outputs": [
        {
          "output_type": "stream",
          "text": [
            "Mass of proton when gravity balances electrostatic repulsion  = 1.86e-09 kg\n"
          ],
          "name": "stdout"
        }
      ]
    },
    {
      "cell_type": "markdown",
      "metadata": {
        "id": "g3WNLZkYYV4p"
      },
      "source": [
        "Due to special relativistic effcts, as a particle of rest mass ($m_0$) travels with a velocity ($v$) close to the speed of light ($c$), its mass increases by a factor $\\gamma$ given by:\n",
        "\n",
        "$\\gamma=\\frac{1}{\\sqrt(1-v^2/c^2)} \\quad(4)$\n",
        "\n",
        "The increased mass ($m$) is given by\n",
        "\n",
        "$m= \\gamma m_0 \\quad (5)$ "
      ]
    },
    {
      "cell_type": "markdown",
      "metadata": {
        "id": "Z_zAtocT8mDg"
      },
      "source": [
        "##2. Relativistic effects"
      ]
    },
    {
      "cell_type": "markdown",
      "metadata": {
        "id": "WeYeyZwC8xXv"
      },
      "source": [
        "###Q1. How does the mass of the proton increase as its velocity tends to $c$? "
      ]
    },
    {
      "cell_type": "markdown",
      "metadata": {
        "id": "f67imMW-9Kxk"
      },
      "source": [
        "For protons of rest mass $m_p$, the mass is given as $m'_p=\\gamma m_p$. From equations (4) & (5), we obtain the following expression for the velocity of high energy protons\n",
        "\n",
        "$v = c\\sqrt{1-(m_p/m_p')^2} \\quad(6)$ "
      ]
    },
    {
      "cell_type": "code",
      "metadata": {
        "id": "-MKV8ZUmXJXz",
        "colab": {
          "base_uri": "https://localhost:8080/",
          "height": 338
        },
        "outputId": "e9916f4a-b9e6-4cae-d941-f78c81a41a9c"
      },
      "source": [
        "# Calculating the mass (in GeV) as a function of velocity (in units of c)\n",
        "# Set the range and stepsize of velocity in units of c\n",
        "v = np.arange(start=0.99, stop=0.999, step=.0001)*c\n",
        "# Calculate the gamma factor and mass\n",
        "gamma = 1/(np.sqrt(1-(v*v)/(c*c)))\n",
        "mpp = m_p * gamma\n",
        "\n",
        "# Set the range and stepsize of mass in units of m_p\n",
        "mpv = np.arange(start=1000, stop=11000, step=100)*m_p\n",
        "# Calculate the velocity\n",
        "vv = c * np.sqrt(1 - (m_p/mpv)**2)\n",
        "\n",
        "# Make the plots\n",
        "fig, (ax1, ax2) = plt.subplots(1, 2,figsize=(10,5))\n",
        "#fig.suptitle('Variation with c')\n",
        "# Variation of proton mass with velocity\n",
        "ax1.plot(v/c, (mpp * c *c).to(u.GeV),lw=2,c='b')\n",
        "ax1.set_xlabel('v/c ')\n",
        "ax1.set_ylabel(\"$m_p'$ (GeV)\")\n",
        "ax1.grid(True)\n",
        "# Difference in proton speed and light speed as a fucntion of proton mass\n",
        "ax2.plot( (mpv * c *c).to(u.GeV),(c-vv),lw=2,c='red')\n",
        "ax2.set_xlabel(\"$m'_p$ (GeV)\")\n",
        "ax2.set_ylabel(\"c-v (m/s)\")\n",
        "ax2.grid(True)\n",
        "plt.show()"
      ],
      "execution_count": null,
      "outputs": [
        {
          "output_type": "display_data",
          "data": {
            "image/png": "[encoded data removed]",
            "text/plain": [
              "<Figure size 720x360 with 2 Axes>"
            ]
          },
          "metadata": {
            "tags": [],
            "needs_background": "light"
          }
        }
      ]
    },
    {
      "cell_type": "markdown",
      "metadata": {
        "id": "t_UnmfJk0eRV"
      },
      "source": [
        "####Q1.1 What will be the separation between these high energy proton and photon after one year?"
      ]
    },
    {
      "cell_type": "code",
      "metadata": {
        "id": "d8e2m_nY3hr_",
        "colab": {
          "base_uri": "https://localhost:8080/"
        },
        "outputId": "6743c003-7d88-44a1-f81c-33304f9e1d30"
      },
      "source": [
        "# Table of c - v as a function of mass\n",
        "diff = c - v\n",
        "# Calculate the separation over a year\n",
        "dist = diff*u.year\n",
        "disty = dist.decompose() \n",
        "print(\"   mp \\t\\t   c-v  \\t separation\")\n",
        "for i in range(0,len(diff),10):\n",
        "  mpvg = (mpv * c *c).to(u.GeV)[i]\n",
        "  print(f\"{mpvg:6.2f} {diff[i]:10.2}  {disty[i]:10.2}\")"
      ],
      "execution_count": null,
      "outputs": [
        {
          "output_type": "stream",
          "text": [
            "   mp \t\t   c-v  \t separation\n",
            "938.27 GeV      3e+06 m / s     9.5e+13 m\n",
            "1876.54 GeV    2.7e+06 m / s     8.5e+13 m\n",
            "2814.82 GeV    2.4e+06 m / s     7.6e+13 m\n",
            "3753.09 GeV    2.1e+06 m / s     6.6e+13 m\n",
            "4691.36 GeV    1.8e+06 m / s     5.7e+13 m\n",
            "5629.63 GeV    1.5e+06 m / s     4.7e+13 m\n",
            "6567.90 GeV    1.2e+06 m / s     3.8e+13 m\n",
            "7506.18 GeV      9e+05 m / s     2.8e+13 m\n",
            "8444.45 GeV      6e+05 m / s     1.9e+13 m\n",
            "9382.72 GeV      3e+05 m / s     9.5e+12 m\n"
          ],
          "name": "stdout"
        }
      ]
    },
    {
      "cell_type": "markdown",
      "metadata": {
        "id": "0ekzyAlUNIiO"
      },
      "source": [
        "####Q1.2 Calculate the separation after Hubble time?"
      ]
    },
    {
      "cell_type": "code",
      "metadata": {
        "id": "AvmmmyNvqr1U",
        "colab": {
          "base_uri": "https://localhost:8080/"
        },
        "outputId": "3b0c95bc-878f-4777-fb31-95b80faa7a65"
      },
      "source": [
        "t_h = 1/cosmo.H(0).decompose() \n",
        "print(\"Hubble constant = {0:.2e}\".format(cosmo.H(0)))\n",
        "print(\"Hubble time = {0:.2e}\".format(t_h))"
      ],
      "execution_count": null,
      "outputs": [
        {
          "output_type": "stream",
          "text": [
            "Hubble constant = 6.93e+01 km / (Mpc s)\n",
            "Hubble time = 4.45e+17 s\n"
          ],
          "name": "stdout"
        }
      ]
    },
    {
      "cell_type": "code",
      "metadata": {
        "id": "oI5ip7u_q2wr",
        "colab": {
          "base_uri": "https://localhost:8080/",
          "height": 190
        },
        "outputId": "1dd8ab56-9658-415c-c50c-be9e9a3a0ce3"
      },
      "source": [
        "sep = diff*t_h\n",
        "sepy = dist.decompose() \n",
        "for i in range(0,len(diff),10):\n",
        "  print(\"c-v = {1:.4f} \\t sep = {0:.4e}\".format(sepy[i],diff[i]))\n"
      ],
      "execution_count": null,
      "outputs": [
        {
          "output_type": "stream",
          "text": [
            "c-v = 149.8963 m / s \t sep = 4.7304e+09 m\n",
            "c-v = 37.4741 m / s \t sep = 1.1826e+09 m\n",
            "c-v = 16.6551 m / s \t sep = 5.2560e+08 m\n",
            "c-v = 9.3685 m / s \t sep = 2.9565e+08 m\n",
            "c-v = 5.9958 m / s \t sep = 1.8921e+08 m\n",
            "c-v = 4.1638 m / s \t sep = 1.3140e+08 m\n",
            "c-v = 3.0591 m / s \t sep = 9.6538e+07 m\n",
            "c-v = 2.3421 m / s \t sep = 7.3912e+07 m\n",
            "c-v = 1.8506 m / s \t sep = 5.8400e+07 m\n",
            "c-v = 1.4990 m / s \t sep = 4.7304e+07 m\n"
          ],
          "name": "stdout"
        }
      ]
    },
    {
      "cell_type": "markdown",
      "metadata": {
        "id": "iVpFbCmMrpbM"
      },
      "source": [
        "What will be gamma factor and mass of the proton when the separation after Hubble time is Compton length \n",
        "(c-v)/H0 = $\\lambda_c$?\n",
        "\n",
        "Compton Length:\n",
        "$\\lambda_c = h/m_pc$\n",
        "\n",
        "The expression for $\\gamma$ then becomes:\n",
        "\n",
        "$\\gamma = [1-(1-\\lambda_c H_0/c)^2)^{-1/2}$]\n",
        "\n"
      ]
    },
    {
      "cell_type": "code",
      "metadata": {
        "id": "GjDLNDravqGs",
        "colab": {
          "base_uri": "https://localhost:8080/",
          "height": 35
        },
        "outputId": "e61f0bfc-e09f-487b-b486-80697b166115"
      },
      "source": [
        "cl = h/(m_p * c) #Compton Length \n",
        "print(\"Compton Length = {0:.4e}\".format(cl))"
      ],
      "execution_count": null,
      "outputs": [
        {
          "output_type": "stream",
          "text": [
            "Compton Length = 1.3214e-15 J s2 / (kg m)\n"
          ],
          "name": "stdout"
        }
      ]
    },
    {
      "cell_type": "code",
      "metadata": {
        "id": "o4X3SC8grtkv",
        "colab": {
          "base_uri": "https://localhost:8080/",
          "height": 69
        },
        "outputId": "90e8a630-6f94-44ac-c2bc-bd81dea45b81"
      },
      "source": [
        "#gamma at Compton Length\n",
        "H0 = cosmo.H(0).decompose()\n",
        "gcl = (2*cl * H0 /c ) ** (-0.5) # Check if the Binomial expansion can be avoided\n",
        "print(\"Gamma factor at Compton Length = {0:.4e}\".format(gcl))\n",
        "print(\"Proton mass at Compton Length = {0:.4e}\".format(gcl * m_p))\n",
        "print(\"Plank mass = {0:.4e}\".format((hbar * c / G) ** 0.5))"
      ],
      "execution_count": null,
      "outputs": [
        {
          "output_type": "stream",
          "text": [
            "Gamma factor at Compton Length = 2.2471e+20\n",
            "Proton mass at Compton Length = 3.7586e-07 kg\n",
            "Plank mass = 2.1764e-08 J(1/2) kg(1/2) s / m\n"
          ],
          "name": "stdout"
        }
      ]
    },
    {
      "cell_type": "markdown",
      "metadata": {
        "id": "pADMq6fON4ol"
      },
      "source": [
        "To accelerate these protons to such high energies, we need linear accelerator. Circular accelerator - energy loss due to synchrotron radiation. \n",
        "\n",
        "Most intense laser ~ 10^26 W/m2\n",
        "\n",
        "Corresponding electric field,\n",
        "\n",
        "$I = (c\\epsilon_0E^2)/2$\n",
        "\n",
        "E ~ 2.7 X 10^14 V/m\n",
        "\n",
        "To produce voltages of 10^28 V, the arm length of the accelerator, \n",
        "\n",
        "x = V/E ~ 4 X 10^13 m\n",
        "\n",
        "Highest possible electric field, around the electron, \n",
        "$E_{max} = ke/(1 f)^2$ ~ 10^21 V/m\n",
        "\n",
        "Corresponding arm length ~ 7 X 10^6 m"
      ]
    },
    {
      "cell_type": "code",
      "metadata": {
        "id": "bX-Xto250Ppv",
        "colab": {
          "base_uri": "https://localhost:8080/",
          "height": 86
        },
        "outputId": "99feb89e-8cd4-4270-edd2-24bed28197ef"
      },
      "source": [
        "##!!!! Fix the units\n",
        "I = 1.e26 #W/m^2\n",
        "E = ((2 * I ) / (c * eps0)) ** .5\n",
        "print(\"Electric field = {0:.4e}\".format(E))\n",
        "V = 1.e28 #V\n",
        "x = V/E \n",
        "print(\"Arm length of the accelerator = {0:.4e}\".format(x))\n",
        "Emax = (1/(4 * math.pi * eps0)) * (e / cl ** 2)\n",
        "print(\"Highest possible electric field = {0:.4e}\".format(Emax))\n",
        "print(\"Corresponding arm length = {0:.4e}\".format(V/Emax))"
      ],
      "execution_count": null,
      "outputs": [
        {
          "output_type": "stream",
          "text": [
            "Electric field = 2.7449e+14 s(1/2) / F(1/2)\n",
            "Arm length of the accelerator = 3.6431e+13 F(1/2) / s(1/2)\n",
            "Highest possible electric field = 8.2466e+20 C kg2 m3 / (F J2 s4)\n",
            "Corresponding arm length = 1.2126e+07 F J2 s4 / (C kg2 m3)\n"
          ],
          "name": "stdout"
        }
      ]
    },
    {
      "cell_type": "code",
      "metadata": {
        "id": "BpOXvnCm2xDg",
        "colab": {
          "base_uri": "https://localhost:8080/",
          "height": 52
        },
        "outputId": "b2da5d2e-681d-472f-88e7-9aa89a4dd7a1"
      },
      "source": [
        "# Width of the beam (wavelength of the laser) w = 10^-7 m\n",
        "# Volume of the beam w^2 * l = 10^-7 m\n",
        "w = 1.e-7\n",
        "vol =  w * w * V/Emax\n",
        "print(\"Volume of the beam = {0:.4e}\".format(vol))\n",
        "print(\"Energy density of the beam = {0:.4e}\".format(e * V /vol))"
      ],
      "execution_count": null,
      "outputs": [
        {
          "output_type": "stream",
          "text": [
            "Volume of the beam = 1.2126e-07 F J2 s4 / (C kg2 m3)\n",
            "Energy density of the beam = 1.3213e+16 C2 kg2 m3 / (F J2 s4)\n"
          ],
          "name": "stdout"
        }
      ]
    },
    {
      "cell_type": "markdown",
      "metadata": {
        "id": "tC_VA3b_PW7T"
      },
      "source": [
        "Radius of the path taken by the particle in galactic magnetic field ~10^-6 G\n",
        "\n",
        "$r = \\gamma m v/e B$"
      ]
    },
    {
      "cell_type": "code",
      "metadata": {
        "id": "zJaAXMLU2ugM",
        "colab": {
          "base_uri": "https://localhost:8080/",
          "height": 35
        },
        "outputId": "506f1d25-3b9b-4bfb-cc53-0128a06dcfac"
      },
      "source": [
        "v2 = c*np.sqrt(1 - (1/7000.)**2)\n",
        "r = (7000 * m_p) * v2 / (e * 10**(-10.)) # in meters\n",
        "print(\"Radius of the path taken by the particle in galactic magnetic field  = {0:.4e}\".format(r))"
      ],
      "execution_count": null,
      "outputs": [
        {
          "output_type": "stream",
          "text": [
            "Radius of the path taken by the particle in galactic magnetic field  = 2.1908e+14 kg m / (C s)\n"
          ],
          "name": "stdout"
        }
      ]
    },
    {
      "cell_type": "markdown",
      "metadata": {
        "id": "EP__doJX8xqO"
      },
      "source": [
        "Radius of the Milky Galaxy is about $10^{20}$ m. So the radius is still a million times small."
      ]
    },
    {
      "cell_type": "code",
      "metadata": {
        "id": "iPuCbJgV7yTt",
        "colab": {
          "base_uri": "https://localhost:8080/",
          "height": 35
        },
        "outputId": "eb97b59c-d042-4998-b24e-3b9c4f9da72f"
      },
      "source": [
        "g3 = 10**18. \n",
        "v3 = c*np.sqrt(1 - (1/g3)**2)\n",
        "r3 = (g3 * m_p) * v3 / (e * 10**(-10.)) # in meters\n",
        "print(\"Radius of the path taken by the Planck energy particle in galactic magnetic field  = {0:.4e}\".format(r3))"
      ],
      "execution_count": null,
      "outputs": [
        {
          "output_type": "stream",
          "text": [
            "Radius of the path taken by the Planck energy particle in galactic magnetic field  = 3.1297e+28 kg m / (C s)\n"
          ],
          "name": "stdout"
        }
      ]
    },
    {
      "cell_type": "markdown",
      "metadata": {
        "id": "xs2o-kEi-EBh"
      },
      "source": [
        "#### Did the universe ever go through a Planck phase?"
      ]
    },
    {
      "cell_type": "code",
      "metadata": {
        "id": "uKh9FP3N9yxF"
      },
      "source": [
        ""
      ],
      "execution_count": null,
      "outputs": []
    },
    {
      "cell_type": "markdown",
      "metadata": {
        "id": "juIC9bonLU7G"
      },
      "source": [
        "When gravity is as strong as the strong interaction (for which the coupling g2/hbarc ~1) we get\n",
        "\n",
        "$G m^2 = \\hbar c$\n",
        "\n",
        "$m = \\sqrt{\\hbar c / G}=m_{pl}$\n",
        "\n",
        "Self energy associated with the charge $e^2 / 4\\pi \\epsilon_0 r$. This tends to infinity as $r \\rightarrow 0 $. \n",
        "\n",
        "Self energy associated with gravity $G m^2 / r$. This tends to infinity as $r \\rightarrow 0 $. \n",
        "\n",
        "Bare mass $m_0$ (without including any interaction)\n",
        "\n",
        "Total mass \n",
        "$m_{tot} = m_0 + e^2 / (4 \\pi \\epsilon_0  r c^2) - G m_{tot}^2 / (r c^2)$\n",
        "\n",
        "Solving for $m_{tot}$ as $r \\rightarrow 0 $\n",
        "\n",
        "$m_{tot} = e/\\sqrt{4 \\pi \\epsilon_0 G}$\n",
        "\n",
        "This holds true even in GR (ADM mass). \n",
        "\n",
        "Including rotation\n",
        "$m_{tot} = m_0 + e^2 / (4\\pi \\epsilon_0 r c^2) - G m_{tot}^2 / (r c^2) + \\hbar/(rc)$\n",
        "\n",
        "Solving for $m_{tot}$ as $r \\rightarrow 0 $\n",
        "$m_{tot} = \\sqrt{\\hbar c/G + e^2/4 \\pi \\epsilon_0 G}$\n",
        "\n",
        "The bare mass does not appear in this expression as $r \\rightarrow 0$.\n",
        "\n",
        "As $r \\rightarrow 0 $, the mass does not tend to infinity in this semi classical model. \n",
        "\n",
        "With strong force, a similar analysis gives \n",
        "$m = g_s/\\sqrt{G}$.\n",
        "\n",
        "$g_s/\\hbar c \\approx 1$"
      ]
    },
    {
      "cell_type": "code",
      "metadata": {
        "id": "GXyL5eaJO8yt",
        "colab": {
          "base_uri": "https://localhost:8080/",
          "height": 35
        },
        "outputId": "72c62da3-a006-4975-c41c-18203be414be"
      },
      "source": [
        "# mtot1 = total mass without rotation\n",
        "mtot1 = e / np.sqrt(4*np.pi*eps0*G)\n",
        "print(\"Total mass without rotation = {0:.4e} kG\".format(mtot1.value))"
      ],
      "execution_count": null,
      "outputs": [
        {
          "output_type": "stream",
          "text": [
            "Total mass without rotation = 1.8592e-09 kG\n"
          ],
          "name": "stdout"
        }
      ]
    },
    {
      "cell_type": "code",
      "metadata": {
        "id": "TGNeiF7HP2z-",
        "colab": {
          "base_uri": "https://localhost:8080/",
          "height": 35
        },
        "outputId": "2a40f1b3-018f-4545-d222-c784e6edd4e2"
      },
      "source": [
        "mtot2 = np.sqrt((hbar * c / G).value + (e**2/(4*np.pi*eps0*G)).value)\n",
        "print(\"Total mass with rotation = {0:.4e} kG\".format(mtot2))"
      ],
      "execution_count": null,
      "outputs": [
        {
          "output_type": "stream",
          "text": [
            "Total mass with rotation = 2.1844e-08 kG\n"
          ],
          "name": "stdout"
        }
      ]
    },
    {
      "cell_type": "code",
      "metadata": {
        "id": "rgcC5FiPQNbP",
        "colab": {
          "base_uri": "https://localhost:8080/",
          "height": 37
        },
        "outputId": "f09df54d-c540-406d-fed9-68190908f934"
      },
      "source": [
        "np.sqrt(e**2/(4*np.pi*eps0*G)).decompose()"
      ],
      "execution_count": null,
      "outputs": [
        {
          "output_type": "execute_result",
          "data": {
            "text/latex": "$1.8592091 \\times 10^{-9} \\; \\mathrm{kg}$",
            "text/plain": [
              "<Quantity 1.85920909e-09 kg>"
            ]
          },
          "metadata": {
            "tags": []
          },
          "execution_count": 5
        }
      ]
    },
    {
      "cell_type": "code",
      "metadata": {
        "id": "9l9-sMZnbOuB",
        "colab": {
          "base_uri": "https://localhost:8080/",
          "height": 37
        },
        "outputId": "adcaf0ab-3802-4e36-a7bb-9528feb31a92"
      },
      "source": [
        "np.sqrt((hbar * c / G)).decompose()"
      ],
      "execution_count": null,
      "outputs": [
        {
          "output_type": "execute_result",
          "data": {
            "text/latex": "$2.1764343 \\times 10^{-8} \\; \\mathrm{kg}$",
            "text/plain": [
              "<Quantity 2.17643434e-08 kg>"
            ]
          },
          "metadata": {
            "tags": []
          },
          "execution_count": 33
        }
      ]
    },
    {
      "cell_type": "markdown",
      "metadata": {
        "id": "KxCWKaYpSs0g"
      },
      "source": [
        "# Mach's Principle"
      ]
    },
    {
      "cell_type": "markdown",
      "metadata": {
        "id": "TQWL2uT4Medg"
      },
      "source": [
        "If the local mass $(m_{loc})$ is due to all the other masses ($M$) in the universe, and $r$ is the average radius of distant mass, then we have the equation:\n",
        "\n",
        "$m_{loc} = \\frac{G M m_{loc}}{r c^2}$\n",
        "\n",
        "This implies\n",
        "\n",
        "$\\frac{G M}{r c^2}\\approx 1$\n",
        "\n",
        "So the value of $G$ is small because $M$ is large.\n",
        "\n",
        "Using $r = R_H$, as the Hubble radius.\n",
        "\n",
        "So, the equation now becomes\n",
        "\n",
        "$8\\pi G \\rho_{av} T_H^2 \\approx 1.$"
      ]
    },
    {
      "cell_type": "code",
      "metadata": {
        "id": "GjZEt5soMsWJ",
        "colab": {
          "base_uri": "https://localhost:8080/",
          "height": 43
        },
        "outputId": "7fab16b3-0e33-4018-eece-c5a22768b15f"
      },
      "source": [
        "rho_av = 9.e-27\n",
        "8*math.pi*G*t_h**2*rho_av"
      ],
      "execution_count": null,
      "outputs": [
        {
          "output_type": "execute_result",
          "data": {
            "text/latex": "$2.9913834 \\; \\mathrm{\\frac{m^{3}}{kg}}$",
            "text/plain": [
              "<Quantity 2.99138337 m3 / kg>"
            ]
          },
          "metadata": {
            "tags": []
          },
          "execution_count": 5
        }
      ]
    },
    {
      "cell_type": "markdown",
      "metadata": {
        "id": "vYpyEf7BQEe2"
      },
      "source": [
        "The gravitational charge $G \\times mass^2$. The three possibilites are:\n",
        "\n",
        "$G m_p^2$, $G m_e^2$ and $G m_p m_e$. \n",
        "\n",
        "The fluctuations in these masses is \n",
        "\n",
        "$\\sqrt{N} G m_p^2/\\hbar c$; this corresponds to the Pion constant.\n",
        "\n",
        "$\\sqrt{N} G m_e^2/\\hbar c$; this corresponds to the Weak interaction constant.\n",
        "\n",
        "$\\sqrt{N} G m_p m_e/\\hbar c$; this corresponds to the Fine-structure constant."
      ]
    },
    {
      "cell_type": "markdown",
      "metadata": {
        "id": "reXQNhNRQEMD"
      },
      "source": [
        ""
      ]
    },
    {
      "cell_type": "code",
      "metadata": {
        "id": "CweK1YetPa2v"
      },
      "source": [
        "N = 4.e78 # The total number of particles in the Universe"
      ],
      "execution_count": null,
      "outputs": []
    },
    {
      "cell_type": "code",
      "metadata": {
        "id": "PplWpX7uRcO1",
        "colab": {
          "base_uri": "https://localhost:8080/",
          "height": 41
        },
        "outputId": "b33c0798-d041-40c6-ebae-cccfbe24529c"
      },
      "source": [
        "(np.sqrt(N) * G * m_p**2) / (hbar * c) # Pion constant is around 14."
      ],
      "execution_count": null,
      "outputs": [
        {
          "output_type": "execute_result",
          "data": {
            "text/latex": "$11.812299 \\; \\mathrm{\\frac{m^{2}\\,kg}{J\\,s^{2}}}$",
            "text/plain": [
              "<Quantity 11.81229883 kg m2 / (J s2)>"
            ]
          },
          "metadata": {
            "tags": []
          },
          "execution_count": 12
        }
      ]
    },
    {
      "cell_type": "code",
      "metadata": {
        "id": "5qor6GC8RmrO",
        "colab": {
          "base_uri": "https://localhost:8080/",
          "height": 41
        },
        "outputId": "c739b4c1-d6e0-4683-9a04-8f6bb88a7c3c"
      },
      "source": [
        "(np.sqrt(N) * G * m_e**2) / (hbar * c) # Weak interaction constant is between 10^-6 and 10^-7\n"
      ],
      "execution_count": null,
      "outputs": [
        {
          "output_type": "execute_result",
          "data": {
            "text/latex": "$3.5036188 \\times 10^{-6} \\; \\mathrm{\\frac{m^{2}\\,kg}{J\\,s^{2}}}$",
            "text/plain": [
              "<Quantity 3.50361879e-06 kg m2 / (J s2)>"
            ]
          },
          "metadata": {
            "tags": []
          },
          "execution_count": 13
        }
      ]
    },
    {
      "cell_type": "code",
      "metadata": {
        "id": "uSXgV6q5R10e",
        "colab": {
          "base_uri": "https://localhost:8080/",
          "height": 41
        },
        "outputId": "05916f6b-fbf1-4936-c8ad-61e5b319e0c6"
      },
      "source": [
        " (np.sqrt(N) * G * m_e*m_p) / (hbar * c)  # Fine structure constant = 1 / 137 "
      ],
      "execution_count": null,
      "outputs": [
        {
          "output_type": "execute_result",
          "data": {
            "text/latex": "$0.006433179 \\; \\mathrm{\\frac{m^{2}\\,kg}{J\\,s^{2}}}$",
            "text/plain": [
              "<Quantity 0.00643318 kg m2 / (J s2)>"
            ]
          },
          "metadata": {
            "tags": []
          },
          "execution_count": 16
        }
      ]
    },
    {
      "cell_type": "code",
      "metadata": {
        "id": "eh39fCQ7R7P6",
        "colab": {
          "base_uri": "https://localhost:8080/",
          "height": 43
        },
        "outputId": "e9440e0f-0a5e-4747-ad38-629db5f69067"
      },
      "source": [
        "  (hbar * c) / (np.sqrt(N) * G * m_e*m_p)"
      ],
      "execution_count": null,
      "outputs": [
        {
          "output_type": "execute_result",
          "data": {
            "text/latex": "$155.44414 \\; \\mathrm{\\frac{s^{2}\\,J}{kg\\,m^{2}}}$",
            "text/plain": [
              "<Quantity 155.44414345 J s2 / (kg m2)>"
            ]
          },
          "metadata": {
            "tags": []
          },
          "execution_count": 17
        }
      ]
    },
    {
      "cell_type": "code",
      "metadata": {
        "id": "Yra4HqlESYGL"
      },
      "source": [
        ""
      ],
      "execution_count": null,
      "outputs": []
    }
  ]
}